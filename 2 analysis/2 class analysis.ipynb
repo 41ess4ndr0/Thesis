{
 "cells": [
  {
   "cell_type": "code",
   "execution_count": 3,
   "id": "ca112b36-35aa-47be-9240-3e835df41278",
   "metadata": {},
   "outputs": [
    {
     "name": "stderr",
     "output_type": "stream",
     "text": [
      "[nltk_data] Downloading package stopwords to\n",
      "[nltk_data]     C:\\Users\\laudi\\AppData\\Roaming\\nltk_data...\n",
      "[nltk_data]   Package stopwords is already up-to-date!\n"
     ]
    }
   ],
   "source": [
    "import pandas as pd\n",
    "import numpy as np\n",
    "import spacy\n",
    "import gensim\n",
    "import nltk\n",
    "from nltk.corpus import stopwords\n",
    "from string import punctuation\n",
    "from nltk import SnowballStemmer\n",
    "from collections import Counter\n",
    "from collections import defaultdict\n",
    "# import numba\n",
    "# from numba.experimental import jitclass\n",
    "# from numba import jit,njit,cuda\n",
    "import re\n",
    "import os\n",
    "import matplotlib.pyplot as plt\n",
    "plt.style.use(\"ggplot\")\n",
    "\n",
    "nltk.download(\"stopwords\")\n",
    "\n",
    "nlp = spacy.load(\"en_core_web_sm\")\n",
    "stopwords = list(stopwords.words(\"english\"))\n",
    "punt = [ele for ele in punctuation]\n",
    "no_word = stopwords+ punt\n",
    "stemmer = SnowballStemmer(\"english\")\n",
    "\n"
   ]
  },
  {
   "cell_type": "code",
   "execution_count": 4,
   "id": "753188c5-f7d5-4126-95e9-46e2a92dd128",
   "metadata": {},
   "outputs": [],
   "source": [
    "PATH_FIND = re.compile(r\".*repository.\")\n",
    "rep_path = re.search(PATH_FIND,os.getcwd()).group()"
   ]
  },
  {
   "cell_type": "code",
   "execution_count": 3,
   "id": "c7165ccb-1e2e-459f-b25f-66b795c84dee",
   "metadata": {},
   "outputs": [],
   "source": [
    "# rep_path"
   ]
  },
  {
   "cell_type": "code",
   "execution_count": 4,
   "id": "608507db-459c-4644-8fed-5d6cbb70e500",
   "metadata": {},
   "outputs": [],
   "source": [
    "# spacy.require_gpu()"
   ]
  },
  {
   "cell_type": "code",
   "execution_count": 5,
   "id": "8961c0bc-3395-4f76-b1af-46d348cd93c1",
   "metadata": {},
   "outputs": [],
   "source": [
    "\n",
    "nlp = spacy.load(\"en_core_web_sm\")"
   ]
  },
  {
   "cell_type": "code",
   "execution_count": 6,
   "id": "df9f973d-bf3d-45fe-88b9-38584ac44f6d",
   "metadata": {},
   "outputs": [],
   "source": [
    "%load_ext cython"
   ]
  },
  {
   "cell_type": "code",
   "execution_count": 7,
   "id": "de6e4d9d-0a2b-4186-b330-cc22bfe70788",
   "metadata": {},
   "outputs": [],
   "source": [
    "# %%cython\n",
    "# import pandas as pd\n",
    "# df = pd.read_csv(\"C:\\\\Users\\\\laudi\\\\OneDrive\\\\Desktop\\\\Tesi_workspace\\\\repository\\\\1 csv\\\\patent_data_RAW.csv\",sep=\",\", nrows=100000)\n",
    "    "
   ]
  },
  {
   "cell_type": "code",
   "execution_count": 11,
   "id": "e0ff5c0d-5441-42ab-bf3a-b84fdb02701f",
   "metadata": {},
   "outputs": [],
   "source": [
    "def read_dataset (path):\n",
    "    df = pd.read_csv(os.path.join(path,\"1 csv\",\"patent_data_RAW.csv\"),sep=\",\")\n",
    "    return df"
   ]
  },
  {
   "cell_type": "code",
   "execution_count": 9,
   "id": "359942c1-9c4e-4c08-b6e8-5cd3d0ac83a4",
   "metadata": {},
   "outputs": [
    {
     "name": "stdout",
     "output_type": "stream",
     "text": [
      "CPU times: total: 39.4 s\n",
      "Wall time: 1min 3s\n"
     ]
    }
   ],
   "source": [
    "%time df = read_dataset(rep_path)"
   ]
  },
  {
   "cell_type": "code",
   "execution_count": 10,
   "id": "7d638aae-1365-4165-9cb0-9686bcacbca5",
   "metadata": {},
   "outputs": [],
   "source": [
    "df[\"issue_date_year\"] = df.issue_date.apply(lambda x : str(x)[-4:])"
   ]
  },
  {
   "cell_type": "code",
   "execution_count": null,
   "id": "f0f4cbf5-c429-4ddc-94dd-ef15e49ada17",
   "metadata": {},
   "outputs": [],
   "source": []
  },
  {
   "cell_type": "code",
   "execution_count": 11,
   "id": "a6b0bf26-d040-4054-9a6d-58cbd1c84ee7",
   "metadata": {},
   "outputs": [],
   "source": [
    "# fraction = len(df)//4\n",
    "# df_1 = df.iloc[:100,:]\n",
    "# df_2 = df.iloc[fraction:fraction*2,:]\n",
    "# df_3 = df.iloc[fraction*2:fraction*3,:]\n",
    "# df_4 = df.iloc[fraction*3:,:]"
   ]
  },
  {
   "cell_type": "code",
   "execution_count": 12,
   "id": "cfdc2e63-e48c-4eac-a8dd-47ece1fb0997",
   "metadata": {},
   "outputs": [],
   "source": [
    "#@numba.jit\n",
    "# %%cython\n",
    "\n",
    "# df = pd.read_csv(os.path.join(rep_path,\"1 csv\",\"patent_data_RAW.csv\"),sep=\",\", nrows=100000)\n",
    "    \n",
    "# r\"C:/Users/alessandro.laudisa/OneDrive - Accenture/Desktop/Tesi_workspace/repository/1 csv/patent_data_RAW.csv\", sep=\",\", nrows=10000)"
   ]
  },
  {
   "cell_type": "code",
   "execution_count": 13,
   "id": "9ac749e4-f7b0-40a2-9eb4-b18a48b347d2",
   "metadata": {},
   "outputs": [
    {
     "data": {
      "text/plain": [
       "Index(['Unnamed: 0', 'id', 'type', 'number', 'country', 'date', 'abstract',\n",
       "       'title', 'kind', 'num_claims', 'filename', 'withdrawn', 'uuid',\n",
       "       'patent_id', 'section_id', 'subsection_id', 'group_id', 'subgroup_id',\n",
       "       'category', 'patent_num', 'xi_real', 'xi_nominal', 'cites', 'permno',\n",
       "       'issue_date', 'filing_date', 'issue_date_year'],\n",
       "      dtype='object')"
      ]
     },
     "execution_count": 13,
     "metadata": {},
     "output_type": "execute_result"
    }
   ],
   "source": [
    "df.columns"
   ]
  },
  {
   "cell_type": "code",
   "execution_count": 14,
   "id": "ee6df060-55c4-4e85-905a-8c30e6e3f59b",
   "metadata": {},
   "outputs": [],
   "source": [
    "# abstract_1 = df_1.abstract\n",
    "# abstract_2 = df_2.abstract\n",
    "# abstract_3 = df_3.abstract\n",
    "# abstract_4 = df_4.abstract"
   ]
  },
  {
   "cell_type": "code",
   "execution_count": 27,
   "id": "831ec7d4-b2f6-404a-a9c1-87145c9c1bcf",
   "metadata": {},
   "outputs": [],
   "source": [
    "sample = df.sample(50000,random_state=1998)"
   ]
  },
  {
   "cell_type": "markdown",
   "id": "5354b3fc-5cc9-4e68-a479-864c835eaa98",
   "metadata": {},
   "source": [
    "# AbstactAnalysis"
   ]
  },
  {
   "cell_type": "code",
   "execution_count": 94,
   "id": "77ced52e-6eff-4105-af97-e126be38e843",
   "metadata": {},
   "outputs": [],
   "source": [
    "\n",
    "\n",
    "# spec = [\n",
    "#     ('abstract', \"reflected list(unicode_type)\"),               # a simple scalar field\n",
    "#     ('tokens', \"unicode_type\"),          # an array field\n",
    "#     ('lemmas', \"unicode_type\"), \n",
    "#     ('names', \"unicode_type\"), \n",
    "#     ('count', \"unicode_type\"),\n",
    "#     ('filt_content', \"unicode_type\"), \n",
    "# ]\n",
    "\n",
    "\n",
    "# @jitclass(spec)\n",
    "class AbstractAnalysis(object):\n",
    "    \n",
    "    def __init__(self, df, name_col_abs):\n",
    "        self.df = df\n",
    "        self.abstract = self.df[name_col_abs]\n",
    "        \n",
    "        #self.tokens = None\n",
    "        #self.lemmas = None\n",
    "        #self.stems = None\n",
    "        #self.entities = None\n",
    "        self.names = None\n",
    "        self.count = None\n",
    "        self.filt_content = None\n",
    "    \n",
    "    \n",
    "    #@jit(forceobj=True)\n",
    "    def nlp_apply(self, x, type_ = \"tokens\", set_ = {'NOUN','VERB','PROPN','ADJ','ADV'} ):\n",
    "        list_ = []\n",
    "        \n",
    "        if type_ == \"tokens\":\n",
    "            for token in nlp(x):\n",
    "                if token.text not in no_word:\n",
    "                    list_.append(token.text)\n",
    "            return list_ \n",
    "        \n",
    "        elif type_ == \"lemmas\":\n",
    "            for token in nlp(x, disable=['parser', 'ner']):\n",
    "                if token.text not in no_word:\n",
    "                    list_.append(token.lemma_)\n",
    "            return list_ \n",
    "        \n",
    "        elif type_ == \"stems\":\n",
    "            for token in x.split():\n",
    "                if token.lower() not in no_word:\n",
    "                    list_.append(stemmer.stem(token))\n",
    "            return list_ \n",
    "        \n",
    "#         elif type_ == \"pos\":\n",
    "       \n",
    "#             for token in nlp(x):\n",
    "#                 # if token.pos_ in set_:\n",
    "                \n",
    "#                 list_.append(token.pos_)\n",
    "        \n",
    "    def decomposition(self, type_ = \"tokens\", set_ ={'NOUN','VERB','PROPN','ADJ','ADV'}):\n",
    "        new_var = self.abstract.apply(lambda x: self.nlp_apply(x, type_= type_, set_=set_))\n",
    "        if type_ == \"tokens\":\n",
    "            self.df[\"tokens\"] = new_var\n",
    "            return new_var\n",
    "        elif type_ == \"lemmas\":\n",
    "            self.df[\"lemmas\"] = new_var\n",
    "            return new_var\n",
    "        elif type_ == \"stems\":\n",
    "            self.df[\"stems\"] = new_var\n",
    "            return new_var\n",
    "#         elif type_ == \"pos\":\n",
    "#             self.df[\"pos\"] = new_var\n",
    "#             return new_var\n",
    "    \n",
    "    # def decomposition(self):\n",
    "    #     #nlp = spacy.load(\"en_core_web_sm\")\n",
    "    #     self.tokens  = [token.text.lower()  for sentence in self.abstract for token in nlp(sentence,disable=[ \"parser\", \"ner\"]) if token.text not in no_word]\n",
    "    #     #self.lemmas  = [token.lemma_.lower()  for sentence in self.abstract for token in nlp(sentence,disable=[\"tagger\", \"parser\", \"ner\"]) if token.text not in no_word]\n",
    "    #     #self.stems   = [stemmer.stem(token).lower() for sentence in self.abstract for token in sentence.split() if token not in no_word]\n",
    "    #     #self.entities = [entity.text for sentence in self.abstract for entity in nlp(sentence).ents if entity.label_ == \"PERSON\"]\n",
    "        \n",
    "        \n",
    "    #possible the choice of Noun and Propn\n",
    "    # def pos_a (self, set_ = {'NOUN','VERB','PROPN','ADJ','ADV'}):\n",
    "    #     filtered_pos = [token.text for sentence in self.abstract for token in nlp(sentence) if token.pos_ in set_] #get all the words\n",
    "    #     self.df[\"fil_pos\"] = filtered_pos\n",
    "        \n",
    "        \n",
    "    def find_name(self, set_ = {'NOUN'}):\n",
    "        name = []\n",
    "        counter_ = 0\n",
    "        for sentence in self.abstract:\n",
    "            name.append([])\n",
    "            for token in nlp(sentence):\n",
    "                if token.pos_  in set_:\n",
    "                    name[counter_].append(token.text)\n",
    "            counter_ += 1\n",
    "        self.df[\"noun\"] = name\n",
    "        \n",
    "    def transform_onelist(self, serie):\n",
    "        list_ = []\n",
    "        for single_list in serie: \n",
    "            for ele in single_list:\n",
    "                list_.append(ele)\n",
    "        return list_\n",
    "        \n",
    "        \n",
    "    def counter(self, cat = \"lemmas\", n=10): \n",
    "        count = Counter()\n",
    "        if   cat == \"lemmas\":\n",
    "            count.update(self.transform_onelist(self.df.lemmas))\n",
    "        elif cat == \"tokens\":\n",
    "            count.update(self.transform_onelist(self.df.tokens))\n",
    "        elif cat == \"stems\":\n",
    "            count.update(self.transform_onelist(self.df.tokens))\n",
    "        elif cat == \"noun\":\n",
    "            count.update(self.transform_onelist(self.df.noun))\n",
    "        self.count = count\n",
    "        return count.most_common(n)\n",
    "        \n",
    "    def save_df(self):\n",
    "        self.df.to_csv(\"raw_all_component.csv\")\n",
    "        \n",
    "        "
   ]
  },
  {
   "cell_type": "code",
   "execution_count": 95,
   "id": "19c7135b-57dc-4719-8088-a17126c87177",
   "metadata": {},
   "outputs": [],
   "source": [
    "AA_1 = AbstractAnalysis(sample, \"abstract\")"
   ]
  },
  {
   "cell_type": "code",
   "execution_count": 30,
   "id": "46e61bfd-0372-41d0-9aa9-f4bafd36ae0c",
   "metadata": {},
   "outputs": [
    {
     "name": "stdout",
     "output_type": "stream",
     "text": [
      "CPU times: total: 8min 11s\n",
      "Wall time: 12min 46s\n"
     ]
    },
    {
     "data": {
      "text/plain": [
       "1220007    [A, method, apparatus, adding, fill, clock, pu...\n",
       "344899     [ , A, rotary, cutting, blade, assembly, remov...\n",
       "1116045    [A, field, sequential, liquid, crystal, displa...\n",
       "184501     [Disclosed, system, method, collecting, trace,...\n",
       "478813     [ , A, fire, truck, characterized, reduced, op...\n",
       "                                 ...                        \n",
       "1969407    [A, touch, sensor, panel, including, plurality...\n",
       "1355275    [An, open, cable, set, top, box, diagnosing, s...\n",
       "1419861    [A, tunable, filter, circuit, inputs, IN1, IN2...\n",
       "1912399    [A, method, disclosed, forming, semiconductor,...\n",
       "21002      [A, lighting, device, vehicle, may, include, l...\n",
       "Name: abstract, Length: 50000, dtype: object"
      ]
     },
     "execution_count": 30,
     "metadata": {},
     "output_type": "execute_result"
    }
   ],
   "source": [
    "%time AA_1.decomposition(\"tokens\")"
   ]
  },
  {
   "cell_type": "code",
   "execution_count": 96,
   "id": "75e34bf8-616f-4899-9939-0b0921376560",
   "metadata": {},
   "outputs": [
    {
     "data": {
      "text/plain": [
       "1220007    [a, method, apparatus, add, fill, clock, pulse...\n",
       "344899     [ , a, rotary, cutting, blade, assembly, remov...\n",
       "1116045    [a, field, sequential, liquid, crystal, displa...\n",
       "184501     [disclose, system, method, collect, trace, dat...\n",
       "478813     [ , a, fire, truck, characterize, reduce, oper...\n",
       "                                 ...                        \n",
       "1969407    [a, touch, sensor, panel, include, plurality, ...\n",
       "1355275    [an, open, cable, set, top, box, diagnose, sys...\n",
       "1419861    [a, tunable, filter, circuit, input, IN1, IN2,...\n",
       "1912399    [a, method, disclose, form, semiconductor, dev...\n",
       "21002      [a, lighting, device, vehicle, may, include, l...\n",
       "Name: abstract, Length: 50000, dtype: object"
      ]
     },
     "execution_count": 96,
     "metadata": {},
     "output_type": "execute_result"
    }
   ],
   "source": [
    "AA_1.decomposition(\"lemmas\")"
   ]
  },
  {
   "cell_type": "code",
   "execution_count": 32,
   "id": "71e47604-325c-417e-aa82-07afef5bc8b0",
   "metadata": {},
   "outputs": [
    {
     "data": {
      "text/plain": [
       "1220007    [method, apparatus, ad, fill-in, clock, puls, ...\n",
       "344899     [rotari, cut, blade, assembl, remov, rubber, t...\n",
       "1116045    [field, sequenti, liquid, crystal, display, ap...\n",
       "184501     [disclos, system, method, collect, trace, data...\n",
       "478813     [fire, truck, character, reduc, oper, nois, le...\n",
       "                                 ...                        \n",
       "1969407    [touch, sensor, panel, includ, plural, drive, ...\n",
       "1355275    [open, cabl, set-top, box, diagnos, system, po...\n",
       "1419861    [tunabl, filter, circuit, input, in1-in2, outp...\n",
       "1912399    [method, disclos, form, semiconductor, device....\n",
       "21002      [light, devic, vehicl, may, includ, light, sou...\n",
       "Name: abstract, Length: 50000, dtype: object"
      ]
     },
     "execution_count": 32,
     "metadata": {},
     "output_type": "execute_result"
    }
   ],
   "source": [
    "AA_1.decomposition(\"stems\")"
   ]
  },
  {
   "cell_type": "code",
   "execution_count": 33,
   "id": "948dfa45-1eb3-4374-9ced-347e056f734a",
   "metadata": {},
   "outputs": [],
   "source": [
    "# AA_1.decomposition(\"pos\")"
   ]
  },
  {
   "cell_type": "code",
   "execution_count": 98,
   "id": "bf93f095-faaa-4f85-8701-7767d66f570f",
   "metadata": {},
   "outputs": [
    {
     "data": {
      "text/plain": [
       "'C:\\\\Users\\\\laudi\\\\OneDrive\\\\Desktop\\\\Tesi_workspace\\\\repository\\\\'"
      ]
     },
     "execution_count": 98,
     "metadata": {},
     "output_type": "execute_result"
    }
   ],
   "source": [
    "rep_path"
   ]
  },
  {
   "cell_type": "code",
   "execution_count": 99,
   "id": "bd2ce53c-d506-4189-bc22-342ada904211",
   "metadata": {},
   "outputs": [],
   "source": [
    "new = pd.read_csv(rep_path+ \"99 generated csv\\\\ch 2\\\\raw_all_component.csv\")"
   ]
  },
  {
   "cell_type": "code",
   "execution_count": 100,
   "id": "bec01c06-572c-4a98-983f-abe4eaf603b0",
   "metadata": {},
   "outputs": [],
   "source": [
    "new.lemmas = AA_1.df.lemmas"
   ]
  },
  {
   "cell_type": "code",
   "execution_count": 102,
   "id": "e125af7c-7372-4279-a580-d7b9211b3fbd",
   "metadata": {},
   "outputs": [],
   "source": [
    "new.to_csv(rep_path+ \"99 generated csv\\\\ch 2\\\\raw_all_component2.csv\")"
   ]
  },
  {
   "cell_type": "code",
   "execution_count": 97,
   "id": "94d34147-af6d-438d-983d-ae2a060a7a7c",
   "metadata": {},
   "outputs": [
    {
     "data": {
      "text/plain": [
       "1220007    [a, method, apparatus, add, fill, clock, pulse...\n",
       "344899     [ , a, rotary, cutting, blade, assembly, remov...\n",
       "1116045    [a, field, sequential, liquid, crystal, displa...\n",
       "184501     [disclose, system, method, collect, trace, dat...\n",
       "478813     [ , a, fire, truck, characterize, reduce, oper...\n",
       "                                 ...                        \n",
       "1969407    [a, touch, sensor, panel, include, plurality, ...\n",
       "1355275    [an, open, cable, set, top, box, diagnose, sys...\n",
       "1419861    [a, tunable, filter, circuit, input, IN1, IN2,...\n",
       "1912399    [a, method, disclose, form, semiconductor, dev...\n",
       "21002      [a, lighting, device, vehicle, may, include, l...\n",
       "Name: lemmas, Length: 50000, dtype: object"
      ]
     },
     "execution_count": 97,
     "metadata": {},
     "output_type": "execute_result"
    }
   ],
   "source": [
    "AA_1.df.lemmas"
   ]
  },
  {
   "cell_type": "code",
   "execution_count": 38,
   "id": "65d39ab3-86c4-46c4-9ab0-f014442d3212",
   "metadata": {},
   "outputs": [
    {
     "name": "stdout",
     "output_type": "stream",
     "text": [
      "CPU times: total: 13min 56s\n",
      "Wall time: 28min 59s\n"
     ]
    }
   ],
   "source": [
    "%time AA_1.find_name()"
   ]
  },
  {
   "cell_type": "code",
   "execution_count": 41,
   "id": "83ddc949-e878-4d63-b51b-03eb3463ebdf",
   "metadata": {},
   "outputs": [],
   "source": [
    "AA_1.save_df()"
   ]
  },
  {
   "cell_type": "code",
   "execution_count": 36,
   "id": "5b233201-ed9f-4627-9834-8e9d6afb86da",
   "metadata": {},
   "outputs": [],
   "source": [
    "a = 1"
   ]
  },
  {
   "cell_type": "code",
   "execution_count": 103,
   "id": "74fc6be8-f464-40ff-8480-7e87cf0279d3",
   "metadata": {},
   "outputs": [
    {
     "data": {
      "text/plain": [
       "[('the', 69757),\n",
       " ('a', 41946),\n",
       " ('first', 41700),\n",
       " ('include', 40108),\n",
       " ('second', 32408),\n",
       " ('one', 30787),\n",
       " ('device', 30287),\n",
       " ('system', 26323),\n",
       " ('method', 25829),\n",
       " ('provide', 25739),\n",
       " ('signal', 23317),\n",
       " ('use', 20422),\n",
       " ('datum', 19688),\n",
       " ('layer', 19331),\n",
       " ('may', 19184),\n",
       " ('form', 18646),\n",
       " ('least', 17495),\n",
       " ('control', 16879),\n",
       " ('base', 15627),\n",
       " ('portion', 15533),\n",
       " (' ', 14889),\n",
       " ('plurality', 14245),\n",
       " ('surface', 13942),\n",
       " ('comprise', 13678),\n",
       " ('receive', 13616),\n",
       " ('image', 13450),\n",
       " ('circuit', 12954),\n",
       " ('information', 12447),\n",
       " ('in', 11408),\n",
       " ('unit', 11292),\n",
       " ('user', 10923),\n",
       " ('apparatus', 10731),\n",
       " ('position', 10585),\n",
       " ('invention', 10054),\n",
       " ('member', 9933),\n",
       " ('an', 9740),\n",
       " ('material', 9519),\n",
       " ('output', 9379),\n",
       " ('network', 9375),\n",
       " ('determine', 9325),\n",
       " ('substrate', 9324),\n",
       " ('element', 9246),\n",
       " ('process', 9058),\n",
       " ('power', 8855),\n",
       " ('end', 8669),\n",
       " ('also', 8600),\n",
       " ('generate', 8565),\n",
       " ('communication', 8388),\n",
       " ('memory', 8366),\n",
       " ('time', 8365)]"
      ]
     },
     "execution_count": 103,
     "metadata": {},
     "output_type": "execute_result"
    }
   ],
   "source": [
    "AA_1.counter(\"lemmas\",n=50)"
   ]
  },
  {
   "cell_type": "code",
   "execution_count": 85,
   "id": "df3c0f72-b8c4-4b37-b9d9-b7a649d61893",
   "metadata": {},
   "outputs": [
    {
     "data": {
      "text/plain": [
       "[('The', 69747),\n",
       " ('A', 42552),\n",
       " ('first', 41462),\n",
       " ('second', 32288),\n",
       " ('one', 29189),\n",
       " ('data', 27005),\n",
       " ('device', 25578),\n",
       " ('includes', 25235),\n",
       " ('system', 22714),\n",
       " ('method', 19732),\n",
       " ('may', 19183),\n",
       " ('signal', 17812),\n",
       " ('least', 17495),\n",
       " ('layer', 17019),\n",
       " (' ', 14889),\n",
       " ('plurality', 14206),\n",
       " ('portion', 12790),\n",
       " ('provided', 12514),\n",
       " ('information', 12309),\n",
       " ('surface', 12265),\n",
       " ('control', 12079),\n",
       " ('circuit', 11573),\n",
       " ('image', 11429),\n",
       " ('In', 11403),\n",
       " ('based', 10720),\n",
       " ('apparatus', 10337),\n",
       " ('invention', 10044),\n",
       " ('user', 9891),\n",
       " ('unit', 9754),\n",
       " ('An', 9741),\n",
       " ('network', 8808),\n",
       " ('substrate', 8722),\n",
       " ('power', 8494),\n",
       " ('material', 8412),\n",
       " ('formed', 8215),\n",
       " ('memory', 8184),\n",
       " ('member', 8099),\n",
       " ('output', 8073),\n",
       " ('including', 7823),\n",
       " ('configured', 7802),\n",
       " ('also', 7714),\n",
       " ('input', 7617),\n",
       " ('using', 7572),\n",
       " ('time', 7540),\n",
       " ('within', 7471),\n",
       " ('end', 7417),\n",
       " ('light', 7370),\n",
       " ('position', 7204),\n",
       " ('wherein', 6839),\n",
       " ('used', 6830)]"
      ]
     },
     "execution_count": 85,
     "metadata": {},
     "output_type": "execute_result"
    }
   ],
   "source": [
    "AA_1.counter(\"tokens\",n=50)"
   ]
  },
  {
   "cell_type": "code",
   "execution_count": 86,
   "id": "e124ed10-57db-434d-9223-41e80e46722d",
   "metadata": {},
   "outputs": [
    {
     "data": {
      "text/plain": [
       "[('The', 69747),\n",
       " ('A', 42552),\n",
       " ('first', 41462),\n",
       " ('second', 32288),\n",
       " ('one', 29189),\n",
       " ('data', 27005),\n",
       " ('device', 25578),\n",
       " ('includes', 25235),\n",
       " ('system', 22714),\n",
       " ('method', 19732),\n",
       " ('may', 19183),\n",
       " ('signal', 17812),\n",
       " ('least', 17495),\n",
       " ('layer', 17019),\n",
       " (' ', 14889),\n",
       " ('plurality', 14206),\n",
       " ('portion', 12790),\n",
       " ('provided', 12514),\n",
       " ('information', 12309),\n",
       " ('surface', 12265),\n",
       " ('control', 12079),\n",
       " ('circuit', 11573),\n",
       " ('image', 11429),\n",
       " ('In', 11403),\n",
       " ('based', 10720),\n",
       " ('apparatus', 10337),\n",
       " ('invention', 10044),\n",
       " ('user', 9891),\n",
       " ('unit', 9754),\n",
       " ('An', 9741),\n",
       " ('network', 8808),\n",
       " ('substrate', 8722),\n",
       " ('power', 8494),\n",
       " ('material', 8412),\n",
       " ('formed', 8215),\n",
       " ('memory', 8184),\n",
       " ('member', 8099),\n",
       " ('output', 8073),\n",
       " ('including', 7823),\n",
       " ('configured', 7802),\n",
       " ('also', 7714),\n",
       " ('input', 7617),\n",
       " ('using', 7572),\n",
       " ('time', 7540),\n",
       " ('within', 7471),\n",
       " ('end', 7417),\n",
       " ('light', 7370),\n",
       " ('position', 7204),\n",
       " ('wherein', 6839),\n",
       " ('used', 6830)]"
      ]
     },
     "execution_count": 86,
     "metadata": {},
     "output_type": "execute_result"
    }
   ],
   "source": [
    "AA_1.counter(\"stems\",n=50)"
   ]
  },
  {
   "cell_type": "code",
   "execution_count": 87,
   "id": "e0138d18-b6bb-4749-bfc8-c29d10ad830e",
   "metadata": {},
   "outputs": [
    {
     "data": {
      "text/plain": [
       "[('data', 26851),\n",
       " ('device', 25568),\n",
       " ('system', 22708),\n",
       " ('method', 19659),\n",
       " ('signal', 17118),\n",
       " ('layer', 16798),\n",
       " ('plurality', 14206),\n",
       " ('portion', 12787),\n",
       " ('information', 12306),\n",
       " ('surface', 12179),\n",
       " ('circuit', 11536),\n",
       " ('image', 11384),\n",
       " ('control', 10584),\n",
       " ('apparatus', 10313),\n",
       " ('invention', 10044),\n",
       " ('user', 9842),\n",
       " ('unit', 9749),\n",
       " ('network', 8799),\n",
       " ('power', 8453),\n",
       " ('material', 8384),\n",
       " ('memory', 8183),\n",
       " ('member', 8095),\n",
       " ('substrate', 7796),\n",
       " ('output', 7746),\n",
       " ('time', 7533),\n",
       " ('input', 7405),\n",
       " ('end', 7218),\n",
       " ('position', 7071),\n",
       " ('communication', 6726),\n",
       " ('voltage', 6469),\n",
       " ('structure', 6177),\n",
       " ('region', 6167),\n",
       " ('source', 5917),\n",
       " ('side', 5847),\n",
       " ('process', 5765),\n",
       " ('element', 5689),\n",
       " ('assembly', 5600),\n",
       " ('processing', 5558),\n",
       " ('semiconductor', 5532),\n",
       " ('value', 5472),\n",
       " ('storage', 5433),\n",
       " ('display', 5354),\n",
       " ('body', 5107),\n",
       " ('methods', 4913),\n",
       " ('signals', 4865),\n",
       " ('operation', 4769),\n",
       " ('line', 4697),\n",
       " ('component', 4669),\n",
       " ('vehicle', 4662),\n",
       " ('computer', 4641)]"
      ]
     },
     "execution_count": 87,
     "metadata": {},
     "output_type": "execute_result"
    }
   ],
   "source": [
    "AA_1.counter(\"noun\",n=50)"
   ]
  },
  {
   "cell_type": "markdown",
   "id": "8b9f5962-b99e-42ff-995f-0f55c7a9d4a8",
   "metadata": {},
   "source": [
    "with jit: \n",
    "* CPU times: total: 17.9 s\n",
    "* Wall time: 34.6 s\n",
    "\n",
    "without jit: \n",
    "* CPU times: total: 22.4 s\n",
    "* Wall time: 27.4 s "
   ]
  },
  {
   "cell_type": "markdown",
   "id": "f6ab1048-ce64-4328-ab22-ecc46327646e",
   "metadata": {},
   "source": [
    "10000 osservazioni tempo di processazione"
   ]
  },
  {
   "cell_type": "markdown",
   "id": "e89d6d33-4732-4e9f-9be3-7b1664beea0c",
   "metadata": {},
   "source": [
    "CPU times: total: 28.5 s\n",
    "Wall time: 41.8 s"
   ]
  },
  {
   "cell_type": "markdown",
   "id": "3cf34e9a-981a-4088-ad06-5bcd951d330f",
   "metadata": {},
   "source": [
    "# TFIDF"
   ]
  },
  {
   "cell_type": "code",
   "execution_count": 6,
   "id": "ad11b4ed-68d6-4593-88be-18f69af83223",
   "metadata": {
    "tags": []
   },
   "outputs": [],
   "source": [
    "from sklearn.feature_extraction.text import TfidfVectorizer, CountVectorizer\n",
    "import matplotlib.pyplot as plt"
   ]
  },
  {
   "cell_type": "code",
   "execution_count": 57,
   "id": "7b9a73d3-0ff9-47cf-b636-aa7f8ec14914",
   "metadata": {},
   "outputs": [],
   "source": [
    "abstract = sample.abstract"
   ]
  },
  {
   "cell_type": "code",
   "execution_count": 12,
   "id": "abb032c3-60ac-4d2b-a3bc-d0671558936d",
   "metadata": {
    "tags": []
   },
   "outputs": [],
   "source": [
    "# read in the data and transform it\n",
    "\n",
    "class TFIDF(object):\n",
    "    def __init__(self,abstract):\n",
    "        self.abstract = abstract\n",
    "        #self.corpus = [[token.text for token in nlp(new_sentence)] for new_sentence in self.abstract]\n",
    "        self.names = None\n",
    "        self.idf = None\n",
    "        self.tfidf = None \n",
    "        self.counvec = None\n",
    "        self.df_tfidf = None \n",
    "        \n",
    "    def settingmodeltfidf(self, ngram_range_ = (1,1), analyzer_ =\"word\", min_df_=0.001, max_df_=0.7):\n",
    "        \n",
    "        tfidf_vectorizer = TfidfVectorizer(ngram_range=ngram_range_, \n",
    "                                   stop_words='english', \n",
    "                                   analyzer=analyzer_, \n",
    "                                   min_df=min_df_, \n",
    "                                   max_df=max_df_, \n",
    "                                   sublinear_tf=True, \n",
    "                                   use_idf=True)\n",
    "        \n",
    "        tfidf = tfidf_vectorizer.fit_transform(self.abstract)\n",
    "        \n",
    "        self.tfidf = tfidf\n",
    "        \n",
    "        self.idf = tfidf_vectorizer.idf_ \n",
    "        \n",
    "        return tfidf\n",
    "        \n",
    "#df = pd.read_excel('../data/reviews.xlsx', nrows=100000)\n",
    "#df = df[df.clean_text.isna()==False] # drop all reviews without text\n",
    "#documents = df.clean_text.apply(str).tolist() # make sure they are strings\n",
    "\n",
    "\n",
    "\n",
    "    def settingmodelcountVec(self, ngram_range_ = (1,1), analyzer_ =\"word\", min_df_=0.001, max_df_=0.7):\n",
    "        \n",
    "\n",
    "\n",
    "        count_vectorizer = CountVectorizer(ngram_range=ngram_range_, \n",
    "                                           stop_words='english', \n",
    "                                           analyzer=analyzer_, \n",
    "                                           min_df=min_df_, \n",
    "                                           max_df=max_df_)\n",
    "\n",
    "        counvec = count_vectorizer.fit_transform(self.abstract)\n",
    "        \n",
    "        self.names = count_vectorizer.get_feature_names_out()\n",
    "        \n",
    "        self.counvec = counvec\n",
    "        \n",
    "        \n",
    "    def array(self):\n",
    "\n",
    "        word_counts = self.counvec.toarray()\n",
    "        word_tfidf = self.tfidf.toarray()\n",
    "\n",
    "        df_tfidf = pd.DataFrame(data = {'word': self.names,\n",
    "                                        'tf': word_counts.sum(axis = 0),\n",
    "                                        'idf': self.idf,\n",
    "                                        'tfidf': word_tfidf.sum(axis=0)})\n",
    "\n",
    "        df_tfidf = df_tfidf.sort_values(['tfidf','tf','idf'])\n",
    "        \n",
    "        self.df_tfidf = df_tfidf\n",
    "\n",
    "        return df_tfidf\n",
    "\n",
    "#### PLOT\n",
    "    def plot(self):\n",
    "        \n",
    "        fig, ax = plt.subplots(figsize = (16,12))\n",
    "\n",
    "        self.df_tfidf['tf'] *= 3\n",
    "\n",
    "        self.df_tfidf.plot.scatter(x = 'tfidf',\n",
    "                                y = 'idf',\n",
    "                                s = 'tf',\n",
    "                                ax = ax,\n",
    "                                alpha = 1,\n",
    "                                edgecolor = 'k'\n",
    "                                #ylim = (1,8),\n",
    "                                #xlim = (0,4000)\n",
    "                                  );\n",
    "\n",
    "    def getsorted(self, n=20):\n",
    "        \n",
    "        return self.array().sort_values(\"tfidf\",ascending=False).iloc[:n,:]\n",
    "# #### plot_word\n",
    "#         fig, ax = plt.subplots(figsize = (16,12))\n",
    "\n",
    "#         self.df_tfidf['tf'] /= 10\n",
    "\n",
    "#         self.df_tfidf.iloc[:1000,:].plot.scatter(x = 'tfidf',\n",
    "#                                 y = 'idf',\n",
    "#                                 s = 'tf',\n",
    "#                                 ax = ax,\n",
    "#                                 alpha = 1,\n",
    "#                                 edgecolor = 'k');\n",
    "\n",
    "#         for label, x, y in zip(self.df_tfidf.iloc[:1000,0], self.df_tfidf.iloc[:1000,3], self.df_tfidf.iloc[:1000,2]):\n",
    "#                     txt = plt.annotate(label,xy=(x, y))\n",
    "        plt.show()"
   ]
  },
  {
   "cell_type": "code",
   "execution_count": 110,
   "id": "c3472018-3e89-48fe-bcb2-9798462c6a69",
   "metadata": {},
   "outputs": [
    {
     "data": {
      "text/plain": [
       "['ngram_range=ngram_range_',\n",
       " \"\\n                                   stop_words='english'\",\n",
       " '\\n                                   analyzer=analyzer_',\n",
       " '\\n                                   min_df=min_df_',\n",
       " '\\n                                   max_df=max_df_',\n",
       " '\\n                                   sublinear_tf=True',\n",
       " '\\n                                   use_idf=True']"
      ]
     },
     "execution_count": 110,
     "metadata": {},
     "output_type": "execute_result"
    }
   ],
   "source": [
    "\"\"\"ngram_range=ngram_range_, \n",
    "                                   stop_words='english', \n",
    "                                   analyzer=analyzer_, \n",
    "                                   min_df=min_df_, \n",
    "                                   max_df=max_df_, \n",
    "                                   sublinear_tf=True, \n",
    "                                   use_idf=True\"\"\".split(\", \")"
   ]
  },
  {
   "cell_type": "code",
   "execution_count": 65,
   "id": "93d1a96a-d106-45be-8d1e-bdc6e7783a7e",
   "metadata": {},
   "outputs": [],
   "source": [
    "tfidf_ = TFIDF(abstract)"
   ]
  },
  {
   "cell_type": "code",
   "execution_count": 66,
   "id": "710e9f21-c2a9-43c8-b2db-3c787e8c862b",
   "metadata": {},
   "outputs": [],
   "source": [
    "tfidf_.settingmodeltfidf()\n",
    "tfidf_.settingmodelcountVec()"
   ]
  },
  {
   "cell_type": "code",
   "execution_count": 67,
   "id": "ee5bed81-6fe9-4a18-8ca2-7ab3381e9299",
   "metadata": {},
   "outputs": [],
   "source": [
    "arr = tfidf_.getsorted()"
   ]
  },
  {
   "cell_type": "code",
   "execution_count": 104,
   "id": "f5f17f00-7e00-4204-be0b-35072fdd3279",
   "metadata": {},
   "outputs": [],
   "source": [
    "arr.to_csv(rep_path+ \"99 generated csv\\\\ch 2\\\\ordered_tfidf.csv\")"
   ]
  },
  {
   "cell_type": "code",
   "execution_count": 73,
   "id": "aa91199d-9e24-4b7f-b6d0-475c4f473eff",
   "metadata": {},
   "outputs": [],
   "source": [
    "# tfidf_.df_tfidf.to_csv(\"tfidf.csv\")"
   ]
  },
  {
   "cell_type": "code",
   "execution_count": 69,
   "id": "f97a446d-fdb3-42f3-b2f2-c9cf67012486",
   "metadata": {},
   "outputs": [
    {
     "data": {
      "image/png": "[encoded data removed]",
      "text/plain": [
       "<Figure size 1600x1200 with 1 Axes>"
      ]
     },
     "metadata": {},
     "output_type": "display_data"
    }
   ],
   "source": [
    "tfidf_.plot()"
   ]
  },
  {
   "cell_type": "code",
   "execution_count": null,
   "id": "301c3f48-f4ee-4e7b-a6cd-0b4d617164de",
   "metadata": {},
   "outputs": [],
   "source": [
    "# arr.sort_values(\"tfidf\",ascending=False).iloc[:20,:]"
   ]
  },
  {
   "attachments": {},
   "cell_type": "markdown",
   "id": "a315f1e4",
   "metadata": {},
   "source": [
    "#### TEST 2020"
   ]
  },
  {
   "cell_type": "code",
   "execution_count": 7,
   "id": "c44c6187",
   "metadata": {},
   "outputs": [],
   "source": [
    "test_2020 = pd.read_csv(r\"C:\\Users\\laudi\\OneDrive\\Desktop\\Tesi_workspace\\repository\\99 generated csv\\ch 3\\test_2020.csv\")"
   ]
  },
  {
   "cell_type": "code",
   "execution_count": 10,
   "id": "153b6415",
   "metadata": {},
   "outputs": [],
   "source": [
    "abstract_2020 = test_2020.abstract"
   ]
  },
  {
   "cell_type": "code",
   "execution_count": 13,
   "id": "42b439b4",
   "metadata": {},
   "outputs": [],
   "source": [
    "tfidf_ = TFIDF(abstract_2020 )"
   ]
  },
  {
   "cell_type": "code",
   "execution_count": 18,
   "id": "544029f3",
   "metadata": {},
   "outputs": [],
   "source": [
    "tfidf_.settingmodeltfidf(ngram_range_=(1, 1), analyzer_= \"word\", min_df_= 0.01, max_df_ = 0.85)\n",
    "tfidf_.settingmodelcountVec(ngram_range_=(1, 1), analyzer_= \"word\", min_df_= 0.01, max_df_ = 0.85)"
   ]
  },
  {
   "cell_type": "code",
   "execution_count": 19,
   "id": "3c40fef8",
   "metadata": {},
   "outputs": [],
   "source": [
    "arr = tfidf_.getsorted()"
   ]
  },
  {
   "cell_type": "code",
   "execution_count": 20,
   "id": "78adcaef",
   "metadata": {},
   "outputs": [
    {
     "data": {
      "text/html": [
       "<div>\n",
       "<style scoped>\n",
       "    .dataframe tbody tr th:only-of-type {\n",
       "        vertical-align: middle;\n",
       "    }\n",
       "\n",
       "    .dataframe tbody tr th {\n",
       "        vertical-align: top;\n",
       "    }\n",
       "\n",
       "    .dataframe thead th {\n",
       "        text-align: right;\n",
       "    }\n",
       "</style>\n",
       "<table border=\"1\" class=\"dataframe\">\n",
       "  <thead>\n",
       "    <tr style=\"text-align: right;\">\n",
       "      <th></th>\n",
       "      <th>word</th>\n",
       "      <th>tf</th>\n",
       "      <th>idf</th>\n",
       "      <th>tfidf</th>\n",
       "    </tr>\n",
       "  </thead>\n",
       "  <tbody>\n",
       "    <tr>\n",
       "      <th>482</th>\n",
       "      <td>second</td>\n",
       "      <td>95747</td>\n",
       "      <td>2.212174</td>\n",
       "      <td>4410.690136</td>\n",
       "    </tr>\n",
       "    <tr>\n",
       "      <th>148</th>\n",
       "      <td>device</td>\n",
       "      <td>79762</td>\n",
       "      <td>2.260818</td>\n",
       "      <td>3930.837164</td>\n",
       "    </tr>\n",
       "    <tr>\n",
       "      <th>268</th>\n",
       "      <td>includes</td>\n",
       "      <td>71312</td>\n",
       "      <td>1.824098</td>\n",
       "      <td>3909.867131</td>\n",
       "    </tr>\n",
       "    <tr>\n",
       "      <th>128</th>\n",
       "      <td>data</td>\n",
       "      <td>72176</td>\n",
       "      <td>2.557402</td>\n",
       "      <td>3575.059455</td>\n",
       "    </tr>\n",
       "    <tr>\n",
       "      <th>335</th>\n",
       "      <td>method</td>\n",
       "      <td>47397</td>\n",
       "      <td>2.267787</td>\n",
       "      <td>3214.860712</td>\n",
       "    </tr>\n",
       "    <tr>\n",
       "      <th>47</th>\n",
       "      <td>based</td>\n",
       "      <td>45461</td>\n",
       "      <td>2.246773</td>\n",
       "      <td>3005.442922</td>\n",
       "    </tr>\n",
       "    <tr>\n",
       "      <th>403</th>\n",
       "      <td>plurality</td>\n",
       "      <td>41449</td>\n",
       "      <td>2.715722</td>\n",
       "      <td>2792.761373</td>\n",
       "    </tr>\n",
       "    <tr>\n",
       "      <th>105</th>\n",
       "      <td>configured</td>\n",
       "      <td>36659</td>\n",
       "      <td>2.630208</td>\n",
       "      <td>2651.611214</td>\n",
       "    </tr>\n",
       "    <tr>\n",
       "      <th>586</th>\n",
       "      <td>user</td>\n",
       "      <td>39764</td>\n",
       "      <td>2.951111</td>\n",
       "      <td>2542.846558</td>\n",
       "    </tr>\n",
       "    <tr>\n",
       "      <th>277</th>\n",
       "      <td>information</td>\n",
       "      <td>32458</td>\n",
       "      <td>3.035830</td>\n",
       "      <td>2272.771652</td>\n",
       "    </tr>\n",
       "    <tr>\n",
       "      <th>433</th>\n",
       "      <td>provided</td>\n",
       "      <td>23485</td>\n",
       "      <td>2.622959</td>\n",
       "      <td>2203.781809</td>\n",
       "    </tr>\n",
       "    <tr>\n",
       "      <th>293</th>\n",
       "      <td>layer</td>\n",
       "      <td>32320</td>\n",
       "      <td>3.527037</td>\n",
       "      <td>2159.452702</td>\n",
       "    </tr>\n",
       "    <tr>\n",
       "      <th>266</th>\n",
       "      <td>include</td>\n",
       "      <td>25062</td>\n",
       "      <td>2.790141</td>\n",
       "      <td>2156.390509</td>\n",
       "    </tr>\n",
       "    <tr>\n",
       "      <th>407</th>\n",
       "      <td>portion</td>\n",
       "      <td>28809</td>\n",
       "      <td>3.217900</td>\n",
       "      <td>2116.794098</td>\n",
       "    </tr>\n",
       "    <tr>\n",
       "      <th>336</th>\n",
       "      <td>methods</td>\n",
       "      <td>20125</td>\n",
       "      <td>2.748992</td>\n",
       "      <td>2098.224073</td>\n",
       "    </tr>\n",
       "    <tr>\n",
       "      <th>246</th>\n",
       "      <td>having</td>\n",
       "      <td>22516</td>\n",
       "      <td>2.785973</td>\n",
       "      <td>2095.746614</td>\n",
       "    </tr>\n",
       "    <tr>\n",
       "      <th>269</th>\n",
       "      <td>including</td>\n",
       "      <td>22601</td>\n",
       "      <td>2.728516</td>\n",
       "      <td>2048.644714</td>\n",
       "    </tr>\n",
       "    <tr>\n",
       "      <th>547</th>\n",
       "      <td>surface</td>\n",
       "      <td>22899</td>\n",
       "      <td>3.390734</td>\n",
       "      <td>1924.477883</td>\n",
       "    </tr>\n",
       "    <tr>\n",
       "      <th>39</th>\n",
       "      <td>associated</td>\n",
       "      <td>22382</td>\n",
       "      <td>2.970560</td>\n",
       "      <td>1910.273190</td>\n",
       "    </tr>\n",
       "    <tr>\n",
       "      <th>352</th>\n",
       "      <td>network</td>\n",
       "      <td>28007</td>\n",
       "      <td>3.371109</td>\n",
       "      <td>1904.417602</td>\n",
       "    </tr>\n",
       "  </tbody>\n",
       "</table>\n",
       "</div>"
      ],
      "text/plain": [
       "            word     tf       idf        tfidf\n",
       "482       second  95747  2.212174  4410.690136\n",
       "148       device  79762  2.260818  3930.837164\n",
       "268     includes  71312  1.824098  3909.867131\n",
       "128         data  72176  2.557402  3575.059455\n",
       "335       method  47397  2.267787  3214.860712\n",
       "47         based  45461  2.246773  3005.442922\n",
       "403    plurality  41449  2.715722  2792.761373\n",
       "105   configured  36659  2.630208  2651.611214\n",
       "586         user  39764  2.951111  2542.846558\n",
       "277  information  32458  3.035830  2272.771652\n",
       "433     provided  23485  2.622959  2203.781809\n",
       "293        layer  32320  3.527037  2159.452702\n",
       "266      include  25062  2.790141  2156.390509\n",
       "407      portion  28809  3.217900  2116.794098\n",
       "336      methods  20125  2.748992  2098.224073\n",
       "246       having  22516  2.785973  2095.746614\n",
       "269    including  22601  2.728516  2048.644714\n",
       "547      surface  22899  3.390734  1924.477883\n",
       "39    associated  22382  2.970560  1910.273190\n",
       "352      network  28007  3.371109  1904.417602"
      ]
     },
     "execution_count": 20,
     "metadata": {},
     "output_type": "execute_result"
    }
   ],
   "source": [
    "arr"
   ]
  },
  {
   "cell_type": "markdown",
   "id": "c864ac62-291a-4d78-b30f-5ef802d5ba40",
   "metadata": {
    "tags": []
   },
   "source": [
    "# Latent Dimension"
   ]
  },
  {
   "cell_type": "code",
   "execution_count": 23,
   "id": "de3c3668-3cee-4354-9c38-ce4bba834522",
   "metadata": {
    "tags": []
   },
   "outputs": [],
   "source": [
    "from sklearn.feature_extraction.text import TfidfVectorizer, CountVectorizer\n",
    "from sklearn.decomposition import TruncatedSVD # this also works with sparse matrices\n",
    "import matplotlib.pyplot as plt\n",
    "from mpl_toolkits.mplot3d import Axes3D\n",
    "from matplotlib import colors\n",
    "import seaborn as sb\n",
    "\n",
    "\n",
    "import numpy as np\n",
    "import pandas as pd\n",
    "import matplotlib.pyplot as plt"
   ]
  },
  {
   "cell_type": "code",
   "execution_count": 12,
   "id": "09c31931",
   "metadata": {},
   "outputs": [],
   "source": [
    "df = pd.read_csv(rep_path+ \"99 generated csv\\\\ch 2\\\\raw_all_component2.csv\")\n",
    "abstract = df.abstract"
   ]
  },
  {
   "cell_type": "code",
   "execution_count": 24,
   "id": "bc818332-ef33-44dd-9741-a5f0b5002b19",
   "metadata": {
    "tags": []
   },
   "outputs": [],
   "source": [
    "class LatentDimension(object):\n",
    "    def __init__(self, abstract):\n",
    "    # set number of latent components\n",
    "    \n",
    "        self.abstract = abstract\n",
    "        \n",
    "        \n",
    "        self.term = None\n",
    "        \n",
    "        self.svd2 = None\n",
    "        self.U2 = None \n",
    "        self.S2 = None\n",
    "        self.V2 = None\n",
    "\n",
    "        self.svd3 = None\n",
    "        self.U3 = None\n",
    "        self.S3 = None\n",
    "        self.V3 = None\n",
    "        \n",
    "        self.Uk = None\n",
    "        self.Sk = None\n",
    "        self.Vk = None\n",
    "        \n",
    "        self.svdk = None\n",
    "        self.X = None\n",
    "    \n",
    "    def set_tfidf(self, ngram_range_ = (1,1), analyzer_ =\"word\", min_df_=0.001, max_df_=0.7):\n",
    "        \n",
    "        tfidf_vectorizer = TfidfVectorizer(ngram_range=ngram_range_, \n",
    "                                   stop_words='english', \n",
    "                                   analyzer=analyzer_, \n",
    "                                   min_df=min_df_, \n",
    "                                   max_df=max_df_, \n",
    "                                   sublinear_tf=True, \n",
    "                                   use_idf=True)\n",
    "        \n",
    "        self.X = tfidf_vectorizer.fit_transform(self.abstract)\n",
    "        \n",
    "        \n",
    "        \n",
    "        self.term = tfidf_vectorizer.get_feature_names_out()\n",
    "        \n",
    "    def specific_dim(self, k):\n",
    "        svdk = TruncatedSVD(n_components=k)\n",
    "        self.Uk = svdk.fit_transform(self.X)\n",
    "        self.Sk = svdk.singular_values_\n",
    "        self.Vk = svdk.components_\n",
    "        \n",
    "    \n",
    "    # def setmodel_plot(self):\n",
    "        \n",
    "    #     svd2 = TruncatedSVD(n_components=2)\n",
    "    #     self.U2 = svd2.fit_transform(self.X)\n",
    "    #     self.S2 = svd2.singular_values_\n",
    "    #     self.V2 = svd2.components_\n",
    "\n",
    "    #     svd3 = TruncatedSVD(n_components=3)\n",
    "    #     self.U3 = svd3.fit_transform(self.X)\n",
    "    #     self.S3 = svd3.singular_values_\n",
    "    #     self.V3 = svd3.components_\n",
    "        \n",
    "    def show_topics(self, A, vocabulary, topn):\n",
    "        \"\"\"\n",
    "        find the top N words for each of the latent dimensions (=rows) in a matrix\n",
    "        \"\"\"\n",
    "        topic_words = ([[vocabulary[i] for i in np.argsort(t)[:-topn-1:-1]]\n",
    "                        for t in A])\n",
    "        return [', '.join(t) for t in topic_words]\n",
    "    \n",
    "    def get_topics(self, topn = 5):\n",
    "        return self.show_topics(self.Vk, self.term, topn)\n",
    "        \n",
    "        \n",
    "        \n",
    "\n",
    "    "
   ]
  },
  {
   "cell_type": "code",
   "execution_count": 14,
   "id": "312c715e-9368-489c-b3e0-ccd2f67a23f4",
   "metadata": {},
   "outputs": [],
   "source": [
    "LD = LatentDimension(abstract)"
   ]
  },
  {
   "cell_type": "code",
   "execution_count": 15,
   "id": "f73e23a0-6adf-4194-89fd-c40805a6adde",
   "metadata": {},
   "outputs": [],
   "source": [
    "LD.set_tfidf()"
   ]
  },
  {
   "cell_type": "code",
   "execution_count": 16,
   "id": "9af217c3-5864-4e70-bc77-c5653c2a6fbe",
   "metadata": {},
   "outputs": [],
   "source": [
    "LD.specific_dim(3)"
   ]
  },
  {
   "cell_type": "code",
   "execution_count": 18,
   "id": "100b9090-e1b1-49a6-abda-64f233437e84",
   "metadata": {},
   "outputs": [],
   "source": [
    "# LD.setmodel_plot()"
   ]
  },
  {
   "cell_type": "code",
   "execution_count": 19,
   "id": "4a406032-7ea5-4f06-8c51-25752a0628f3",
   "metadata": {},
   "outputs": [
    {
     "data": {
      "text/plain": [
       "['second, device, data, includes, method',\n",
       " 'layer, substrate, surface, formed, material',\n",
       " 'invention, compounds, compositions, formula, present']"
      ]
     },
     "execution_count": 19,
     "metadata": {},
     "output_type": "execute_result"
    }
   ],
   "source": [
    "LD.get_topics()"
   ]
  },
  {
   "attachments": {},
   "cell_type": "markdown",
   "id": "34bd9a53-1e7f-4a2a-968e-9b7c7360af7b",
   "metadata": {},
   "source": [
    "## TEST_2020"
   ]
  },
  {
   "cell_type": "markdown",
   "id": "0db7c6e5",
   "metadata": {},
   "source": []
  },
  {
   "cell_type": "code",
   "execution_count": 30,
   "id": "9190c62b",
   "metadata": {},
   "outputs": [],
   "source": [
    "LD = LatentDimension(abstract_2020)"
   ]
  },
  {
   "cell_type": "code",
   "execution_count": 31,
   "id": "ae31beee",
   "metadata": {},
   "outputs": [],
   "source": [
    "LD.set_tfidf()"
   ]
  },
  {
   "cell_type": "code",
   "execution_count": 32,
   "id": "7530ec62",
   "metadata": {},
   "outputs": [],
   "source": [
    "LD.specific_dim(5)"
   ]
  },
  {
   "cell_type": "code",
   "execution_count": 33,
   "id": "e6fd656b",
   "metadata": {},
   "outputs": [],
   "source": [
    "# LD.setmodel_plot()"
   ]
  },
  {
   "cell_type": "code",
   "execution_count": 34,
   "id": "7570bd74",
   "metadata": {},
   "outputs": [
    {
     "data": {
      "text/plain": [
       "['second, device, data, includes, method',\n",
       " 'layer, substrate, surface, semiconductor, second',\n",
       " 'layer, semiconductor, substrate, user, structure',\n",
       " 'signal, circuit, voltage, power, wireless',\n",
       " 'image, unit, display, data, processing']"
      ]
     },
     "execution_count": 34,
     "metadata": {},
     "output_type": "execute_result"
    }
   ],
   "source": [
    "LD.get_topics()"
   ]
  },
  {
   "cell_type": "code",
   "execution_count": null,
   "id": "b92a5b90",
   "metadata": {},
   "outputs": [],
   "source": []
  }
 ],
 "metadata": {
  "kernelspec": {
   "display_name": "spacyenv",
   "language": "python",
   "name": "python3"
  },
  "language_info": {
   "codemirror_mode": {
    "name": "ipython",
    "version": 3
   },
   "file_extension": ".py",
   "mimetype": "text/x-python",
   "name": "python",
   "nbconvert_exporter": "python",
   "pygments_lexer": "ipython3",
   "version": "3.10.9"
  },
  "vscode": {
   "interpreter": {
    "hash": "5b4e29256509f33b01156c7dd4e11daf13af7b6162e1bf6e1b7dec9da6ceaa6e"
   }
  }
 },
 "nbformat": 4,
 "nbformat_minor": 5
}
