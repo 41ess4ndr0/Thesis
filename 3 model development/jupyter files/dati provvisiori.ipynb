{
 "cells": [
  {
   "cell_type": "markdown",
   "id": "04fa1fc6-c142-4066-a45d-cbbcdf897967",
   "metadata": {},
   "source": [
    "## Info conservate"
   ]
  },
  {
   "cell_type": "code",
   "execution_count": 1,
   "id": "2aea3da2-2f2d-48f5-ac3b-17910252a04c",
   "metadata": {},
   "outputs": [],
   "source": [
    "import torch"
   ]
  },
  {
   "cell_type": "code",
   "execution_count": 2,
   "id": "5c26d441-5306-4e21-acf9-915b05590aba",
   "metadata": {},
   "outputs": [
    {
     "data": {
      "text/plain": [
       "False"
      ]
     },
     "execution_count": 2,
     "metadata": {},
     "output_type": "execute_result"
    }
   ],
   "source": [
    "torch.cuda.is_available()"
   ]
  },
  {
   "cell_type": "markdown",
   "id": "5f1fdafe-9334-4d17-bc63-1ad2ae1ebb91",
   "metadata": {},
   "source": [
    "# Dataframe creation"
   ]
  },
  {
   "cell_type": "code",
   "execution_count": 15,
   "id": "7335a4fc-7673-4b9f-b6e5-79dabece53bb",
   "metadata": {},
   "outputs": [],
   "source": [
    "#top_nouns_dict = open(...)"
   ]
  },
  {
   "cell_type": "code",
   "execution_count": 16,
   "id": "e5ef074b-c039-45f0-a523-9aa7d751aa5a",
   "metadata": {},
   "outputs": [
    {
     "ename": "NameError",
     "evalue": "name 'top_nouns_dict' is not defined",
     "output_type": "error",
     "traceback": [
      "\u001b[1;31m---------------------------------------------------------------------------\u001b[0m",
      "\u001b[1;31mNameError\u001b[0m                                 Traceback (most recent call last)",
      "Cell \u001b[1;32mIn[16], line 1\u001b[0m\n\u001b[1;32m----> 1\u001b[0m top_nouns_dataframe \u001b[38;5;241m=\u001b[39m pd\u001b[38;5;241m.\u001b[39mDataFrame(\u001b[43mtop_nouns_dict\u001b[49m)\n\u001b[0;32m      2\u001b[0m top_nouns_dataframe\u001b[38;5;241m.\u001b[39mhead(\u001b[38;5;241m10\u001b[39m)\n",
      "\u001b[1;31mNameError\u001b[0m: name 'top_nouns_dict' is not defined"
     ]
    }
   ],
   "source": [
    "top_nouns_dataframe = pd.DataFrame(top_nouns_dict)\n",
    "top_nouns_dataframe.head(10)"
   ]
  },
  {
   "cell_type": "code",
   "execution_count": null,
   "id": "a8ed71c1-932e-4612-809f-ff4f165c5b24",
   "metadata": {},
   "outputs": [],
   "source": []
  },
  {
   "cell_type": "code",
   "execution_count": 8,
   "id": "97fa698e-152e-4186-a24c-ce12dfd08c17",
   "metadata": {},
   "outputs": [],
   "source": [
    "# define useful functions\n",
    "def create_start_log(list_of_nouns):\n",
    "    sequence= ', '.join(list_of_nouns) \n",
    "    start_log = 'create a patent with the following words: '+ sequence + '.\\n the following patent'\n",
    "    return start_log\n",
    "\n",
    "def text_generator(list_of_nouns, tokenizer, model):    \n",
    "    inputs = tokenizer.encode(create_start_log(list_of_nouns), return_tensors ='pt')\n",
    "    \n",
    "    outputs = model.generate(inputs, max_length=50, do_sample=True, temperature = 2.0 , top_k=40)\n",
    "    # top_k limits the sample tokens to the top rated tokens that the model is predicting -> more coherent text.\n",
    "    # temperature is used to have a more random output, default is 1\n",
    "    '''\n",
    "     Run the sample_model\n",
    "     :model_name=117M : String, which model to use\n",
    "     :seed=None : Integer seed for random number generators, fix seed to\n",
    "     reproduce results\n",
    "     :nsamples=0 : Number of samples to return, if 0, continues to\n",
    "     generate samples indefinately.\n",
    "     :batch_size=1 : Number of batches (only affects speed/memory).\n",
    "     :length=None : Number of tokens in generated text, if None (default), is\n",
    "     determined by model hyperparameters\n",
    "     :temperature=1 : Float value controlling randomness in boltzmann\n",
    "     distribution. Lower temperature results in less random completions. As the\n",
    "     temperature approaches zero, the model will become deterministic and\n",
    "     repetitive. Higher temperature results in more random completions.\n",
    "     :top_k=0 : Integer value controlling diversity. 1 means only 1 word is\n",
    "     considered for each step (token), resulting in deterministic completions,\n",
    "     while 40 means 40 words are considered at each step. 0 (default) is a\n",
    "     special setting meaning no restrictions. 40 generally is a good value.\n",
    "     '''\n",
    "    text =tokenizer.decode(outputs[0], skip_special_tokens = True)\n",
    "    # print(text)\n",
    " \n",
    "    return text"
   ]
  },
  {
   "cell_type": "code",
   "execution_count": null,
   "id": "81086222-06e9-4254-9007-7b8efbc5d972",
   "metadata": {},
   "outputs": [],
   "source": []
  },
  {
   "cell_type": "code",
   "execution_count": null,
   "id": "f18ad265-9493-4742-9ae3-0c659970bdd2",
   "metadata": {},
   "outputs": [],
   "source": []
  },
  {
   "cell_type": "code",
   "execution_count": 9,
   "id": "33253ac5-dc6a-46b7-8f38-7aab5b1023e7",
   "metadata": {
    "tags": []
   },
   "outputs": [],
   "source": [
    "tokenizer = GPT2Tokenizer.from_pretrained('gpt2')\n",
    "model = GPT2LMHeadModel.from_pretrained('gpt2')\n"
   ]
  },
  {
   "cell_type": "code",
   "execution_count": 10,
   "id": "cd1d4b9e-8898-4cf1-becd-4e543d8b0c46",
   "metadata": {},
   "outputs": [
    {
     "name": "stderr",
     "output_type": "stream",
     "text": [
      "The attention mask and the pad token id were not set. As a consequence, you may observe unexpected behavior. Please pass your input's `attention_mask` to obtain reliable results.\n",
      "Setting `pad_token_id` to `eos_token_id`:50256 for open-end generation.\n"
     ]
    },
    {
     "data": {
      "text/plain": [
       "\"create a patent with the following words: cat, dog.\\n the following patent\\nThe following phrase appeared once in the New Deal: New Law Enforcement Patent Law\\nHere's what our current patent policy actually is\\nToday: We only take such generic\""
      ]
     },
     "execution_count": 10,
     "metadata": {},
     "output_type": "execute_result"
    }
   ],
   "source": [
    "text_generator([\"cat\",\"dog\"],tokenizer,model)"
   ]
  },
  {
   "cell_type": "code",
   "execution_count": null,
   "id": "ad54dc46-c79d-4c1a-afeb-c162070c10b9",
   "metadata": {},
   "outputs": [],
   "source": [
    "\n",
    "# text_generator(sequence, tokenizer, model)\n",
    "generated_patents_dict ={}\n",
    "for i in patent_subsections:\n",
    "    generated_patents_by_year = {}\n",
    "    for y in years: \n",
    "        generated_patents_by_year[y]= text_generator(top_nouns_dict[i][y], tokenizer, model)\n",
    "    generated_patents_dict[i]=generated_patents_by_year"
   ]
  },
  {
   "cell_type": "code",
   "execution_count": null,
   "id": "62b2a057-761c-4e87-bf00-aefd1fcc815f",
   "metadata": {},
   "outputs": [],
   "source": [
    "with open('generated_patents_dict.pkl', 'wb') as f:\n",
    "    pickle.dump(generated_patents_dict, f)"
   ]
  }
 ],
 "metadata": {
  "kernelspec": {
   "display_name": "Python 3 (ipykernel)",
   "language": "python",
   "name": "python3"
  },
  "language_info": {
   "codemirror_mode": {
    "name": "ipython",
    "version": 3
   },
   "file_extension": ".py",
   "mimetype": "text/x-python",
   "name": "python",
   "nbconvert_exporter": "python",
   "pygments_lexer": "ipython3",
   "version": "3.10.8"
  }
 },
 "nbformat": 4,
 "nbformat_minor": 5
}
